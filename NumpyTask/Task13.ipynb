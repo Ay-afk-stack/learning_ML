{
 "cells": [
  {
   "cell_type": "code",
   "execution_count": 1,
   "id": "61214743-91ea-4db2-a447-1f23caf5f3df",
   "metadata": {},
   "outputs": [],
   "source": [
    "import numpy as np"
   ]
  },
  {
   "cell_type": "code",
   "execution_count": 2,
   "id": "69bef95f-8a2b-4be0-a698-f54885ae41c0",
   "metadata": {},
   "outputs": [],
   "source": [
    "arr = np.random.randint(1,50,size = 12)"
   ]
  },
  {
   "cell_type": "code",
   "execution_count": 3,
   "id": "a416a063-96bc-43a8-aabb-e054150a09b1",
   "metadata": {},
   "outputs": [
    {
     "data": {
      "text/plain": [
       "array([49, 14, 33, 37, 47, 41, 29, 37, 47, 29, 37, 12], dtype=int32)"
      ]
     },
     "execution_count": 3,
     "metadata": {},
     "output_type": "execute_result"
    }
   ],
   "source": [
    "arr"
   ]
  },
  {
   "cell_type": "code",
   "execution_count": 9,
   "id": "4ebe60dc-4dea-4027-b71e-bc664210e247",
   "metadata": {},
   "outputs": [],
   "source": [
    "res = arr.reshape((3,4))"
   ]
  },
  {
   "cell_type": "code",
   "execution_count": 11,
   "id": "2f4f78c2-291f-4f93-bcf5-bbbe710c4264",
   "metadata": {},
   "outputs": [
    {
     "data": {
      "text/plain": [
       "(3, 4)"
      ]
     },
     "execution_count": 11,
     "metadata": {},
     "output_type": "execute_result"
    }
   ],
   "source": [
    "res.shape"
   ]
  },
  {
   "cell_type": "code",
   "execution_count": 12,
   "id": "4881c469-98ce-4b51-9529-4c4026e6103c",
   "metadata": {},
   "outputs": [
    {
     "data": {
      "text/plain": [
       "array([[49, 14, 33, 37],\n",
       "       [47, 41, 29, 37],\n",
       "       [47, 29, 37, 12]], dtype=int32)"
      ]
     },
     "execution_count": 12,
     "metadata": {},
     "output_type": "execute_result"
    }
   ],
   "source": [
    "res"
   ]
  }
 ],
 "metadata": {
  "kernelspec": {
   "display_name": "Python 3 (ipykernel)",
   "language": "python",
   "name": "python3"
  },
  "language_info": {
   "codemirror_mode": {
    "name": "ipython",
    "version": 3
   },
   "file_extension": ".py",
   "mimetype": "text/x-python",
   "name": "python",
   "nbconvert_exporter": "python",
   "pygments_lexer": "ipython3",
   "version": "3.13.5"
  }
 },
 "nbformat": 4,
 "nbformat_minor": 5
}
