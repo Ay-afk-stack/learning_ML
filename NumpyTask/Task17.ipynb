{
 "cells": [
  {
   "cell_type": "code",
   "execution_count": 1,
   "id": "a4dc60dc-6d00-4be3-a1fe-45a3ffa326f8",
   "metadata": {},
   "outputs": [],
   "source": [
    "import numpy as np"
   ]
  },
  {
   "cell_type": "code",
   "execution_count": 18,
   "id": "659f7aff-c10b-4a1d-a0b9-53a95e750fac",
   "metadata": {},
   "outputs": [],
   "source": [
    "arr = np.random.random(size = (3,3))"
   ]
  },
  {
   "cell_type": "code",
   "execution_count": 19,
   "id": "e39aba19-4d2b-4da2-8238-fc9735ef3c5f",
   "metadata": {},
   "outputs": [
    {
     "data": {
      "text/plain": [
       "array([[0.25626381, 0.52257894, 0.62885324],\n",
       "       [0.80239717, 0.60240963, 0.65451221],\n",
       "       [0.03973806, 0.50662717, 0.86916184]])"
      ]
     },
     "execution_count": 19,
     "metadata": {},
     "output_type": "execute_result"
    }
   ],
   "source": [
    "arr"
   ]
  },
  {
   "cell_type": "code",
   "execution_count": 20,
   "id": "0898ff49-4ba7-4201-aa1d-b83debecdd53",
   "metadata": {},
   "outputs": [
    {
     "data": {
      "text/plain": [
       "array([[0.25626381, 0.80239717, 0.03973806],\n",
       "       [0.52257894, 0.60240963, 0.50662717],\n",
       "       [0.62885324, 0.65451221, 0.86916184]])"
      ]
     },
     "execution_count": 20,
     "metadata": {},
     "output_type": "execute_result"
    }
   ],
   "source": [
    "np.transpose(arr)"
   ]
  },
  {
   "cell_type": "code",
   "execution_count": 22,
   "id": "5d7b25da-2d90-4718-b5ad-07633ca28e2d",
   "metadata": {},
   "outputs": [
    {
     "data": {
      "text/plain": [
       "array([[0.25626381, 0.80239717, 0.03973806],\n",
       "       [0.52257894, 0.60240963, 0.50662717],\n",
       "       [0.62885324, 0.65451221, 0.86916184]])"
      ]
     },
     "execution_count": 22,
     "metadata": {},
     "output_type": "execute_result"
    }
   ],
   "source": [
    "arr.T"
   ]
  }
 ],
 "metadata": {
  "kernelspec": {
   "display_name": "Python 3 (ipykernel)",
   "language": "python",
   "name": "python3"
  },
  "language_info": {
   "codemirror_mode": {
    "name": "ipython",
    "version": 3
   },
   "file_extension": ".py",
   "mimetype": "text/x-python",
   "name": "python",
   "nbconvert_exporter": "python",
   "pygments_lexer": "ipython3",
   "version": "3.13.5"
  }
 },
 "nbformat": 4,
 "nbformat_minor": 5
}
