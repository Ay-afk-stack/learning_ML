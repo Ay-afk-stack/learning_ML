{
 "cells": [
  {
   "cell_type": "code",
   "execution_count": 1,
   "id": "194d4b6d-56c1-4acc-8b31-145e7d00f27f",
   "metadata": {},
   "outputs": [],
   "source": [
    "import numpy as np"
   ]
  },
  {
   "cell_type": "code",
   "execution_count": 7,
   "id": "080f1943-b329-4d6b-b9fe-cc5cebf0d7eb",
   "metadata": {},
   "outputs": [],
   "source": [
    "arr = np.random.randint(1, 101, size = (5,5))"
   ]
  },
  {
   "cell_type": "code",
   "execution_count": 12,
   "id": "22b4055a-e46d-47eb-92c9-b9b8968ab92f",
   "metadata": {},
   "outputs": [
    {
     "name": "stdout",
     "output_type": "stream",
     "text": [
      "[[43 68 81 13 83]\n",
      " [21 72 15 90 60]\n",
      " [16 68 99 16 55]\n",
      " [34 86 79 98 96]\n",
      " [56 35 41 56 66]]\n"
     ]
    }
   ],
   "source": [
    "print(arr)"
   ]
  },
  {
   "cell_type": "code",
   "execution_count": 13,
   "id": "4eee9112-a83b-4fc4-a364-64726fda65b7",
   "metadata": {},
   "outputs": [],
   "source": [
    "max_val = np.max(arr)"
   ]
  },
  {
   "cell_type": "code",
   "execution_count": 14,
   "id": "ec584576-3529-4b9a-aed3-3bb7496bec5b",
   "metadata": {},
   "outputs": [],
   "source": [
    "min_val = np.min(arr)"
   ]
  },
  {
   "cell_type": "code",
   "execution_count": 15,
   "id": "e28e2328-dce2-46f2-b5fb-1c290fbc0fe1",
   "metadata": {},
   "outputs": [
    {
     "name": "stdout",
     "output_type": "stream",
     "text": [
      "Max Value: 99\n"
     ]
    }
   ],
   "source": [
    "print(\"Max Value:\", max_val)"
   ]
  },
  {
   "cell_type": "code",
   "execution_count": 16,
   "id": "8c906f84-38fc-496f-b37d-68b5b9495a5e",
   "metadata": {},
   "outputs": [
    {
     "name": "stdout",
     "output_type": "stream",
     "text": [
      "Min Value: 13\n"
     ]
    }
   ],
   "source": [
    "print(\"Min Value:\", min_val)"
   ]
  }
 ],
 "metadata": {
  "kernelspec": {
   "display_name": "Python 3 (ipykernel)",
   "language": "python",
   "name": "python3"
  },
  "language_info": {
   "codemirror_mode": {
    "name": "ipython",
    "version": 3
   },
   "file_extension": ".py",
   "mimetype": "text/x-python",
   "name": "python",
   "nbconvert_exporter": "python",
   "pygments_lexer": "ipython3",
   "version": "3.13.5"
  }
 },
 "nbformat": 4,
 "nbformat_minor": 5
}
