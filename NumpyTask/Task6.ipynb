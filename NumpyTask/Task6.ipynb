{
 "cells": [
  {
   "cell_type": "code",
   "execution_count": 2,
   "id": "67a9a993-3dab-4e1b-b9ba-fa57760070bd",
   "metadata": {},
   "outputs": [],
   "source": [
    "import numpy as np"
   ]
  },
  {
   "cell_type": "code",
   "execution_count": 6,
   "id": "cb98250f-38b3-41df-9d19-da2541e8c12a",
   "metadata": {},
   "outputs": [],
   "source": [
    "arr = np.random.random((3,3))"
   ]
  },
  {
   "cell_type": "code",
   "execution_count": 14,
   "id": "eaaf2b2a-cca3-488e-a998-fd7b2610d272",
   "metadata": {},
   "outputs": [
    {
     "name": "stdout",
     "output_type": "stream",
     "text": [
      "[[0.57240292 0.79154436 0.13311366]\n",
      " [0.79501917 0.69999108 0.99731144]\n",
      " [0.34478633 0.41920653 0.99855819]]\n"
     ]
    }
   ],
   "source": [
    "print(arr)"
   ]
  },
  {
   "cell_type": "code",
   "execution_count": 16,
   "id": "cd71e4fc-703a-4f77-a645-f25b632897ee",
   "metadata": {},
   "outputs": [
    {
     "name": "stdout",
     "output_type": "stream",
     "text": [
      "0.9973114371605535\n"
     ]
    }
   ],
   "source": [
    "print(arr[1,2])"
   ]
  }
 ],
 "metadata": {
  "kernelspec": {
   "display_name": "Python 3 (ipykernel)",
   "language": "python",
   "name": "python3"
  },
  "language_info": {
   "codemirror_mode": {
    "name": "ipython",
    "version": 3
   },
   "file_extension": ".py",
   "mimetype": "text/x-python",
   "name": "python",
   "nbconvert_exporter": "python",
   "pygments_lexer": "ipython3",
   "version": "3.13.5"
  }
 },
 "nbformat": 4,
 "nbformat_minor": 5
}
