{
 "cells": [
  {
   "cell_type": "code",
   "execution_count": 1,
   "id": "e51ee188-c69a-4a52-a883-935f526e089a",
   "metadata": {},
   "outputs": [],
   "source": [
    "import numpy as np"
   ]
  },
  {
   "cell_type": "code",
   "execution_count": 5,
   "id": "7fe184cf-91d5-403f-8442-db5ed36f31ca",
   "metadata": {},
   "outputs": [],
   "source": [
    "zero_arrs = np.zeros((3,3), dtype = np.int64)"
   ]
  },
  {
   "cell_type": "code",
   "execution_count": 6,
   "id": "622d547f-f87f-480c-b1af-ab91527f9c44",
   "metadata": {},
   "outputs": [
    {
     "name": "stdout",
     "output_type": "stream",
     "text": [
      "[[0 0 0]\n",
      " [0 0 0]\n",
      " [0 0 0]]\n"
     ]
    }
   ],
   "source": [
    "print(zero_arrs)"
   ]
  }
 ],
 "metadata": {
  "kernelspec": {
   "display_name": "Python 3 (ipykernel)",
   "language": "python",
   "name": "python3"
  },
  "language_info": {
   "codemirror_mode": {
    "name": "ipython",
    "version": 3
   },
   "file_extension": ".py",
   "mimetype": "text/x-python",
   "name": "python",
   "nbconvert_exporter": "python",
   "pygments_lexer": "ipython3",
   "version": "3.13.5"
  }
 },
 "nbformat": 4,
 "nbformat_minor": 5
}
