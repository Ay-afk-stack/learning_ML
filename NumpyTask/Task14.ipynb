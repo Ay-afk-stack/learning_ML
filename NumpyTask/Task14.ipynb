{
 "cells": [
  {
   "cell_type": "code",
   "execution_count": 1,
   "id": "83950da8-0706-4d06-9c22-356f81bbf0bc",
   "metadata": {},
   "outputs": [],
   "source": [
    "import numpy as np"
   ]
  },
  {
   "cell_type": "code",
   "execution_count": 2,
   "id": "8174e9c6-1d17-41f7-88c4-574f8259898b",
   "metadata": {},
   "outputs": [],
   "source": [
    "scalar_value = 10"
   ]
  },
  {
   "cell_type": "code",
   "execution_count": 3,
   "id": "9070c94e-98b7-43d3-89d6-0b1f3777dd73",
   "metadata": {},
   "outputs": [],
   "source": [
    "np_arr = np.random.randint(1,10, size = (3,3))"
   ]
  },
  {
   "cell_type": "code",
   "execution_count": 4,
   "id": "f5b02967-bf51-43f4-88f1-29f78e274c0c",
   "metadata": {},
   "outputs": [
    {
     "data": {
      "text/plain": [
       "array([[3, 3, 6],\n",
       "       [5, 9, 5],\n",
       "       [4, 8, 8]], dtype=int32)"
      ]
     },
     "execution_count": 4,
     "metadata": {},
     "output_type": "execute_result"
    }
   ],
   "source": [
    "np_arr"
   ]
  },
  {
   "cell_type": "code",
   "execution_count": 5,
   "id": "e6ddd89d-b726-4fcc-8bfa-f16beeca23bb",
   "metadata": {},
   "outputs": [
    {
     "data": {
      "text/plain": [
       "array([[13, 13, 16],\n",
       "       [15, 19, 15],\n",
       "       [14, 18, 18]], dtype=int32)"
      ]
     },
     "execution_count": 5,
     "metadata": {},
     "output_type": "execute_result"
    }
   ],
   "source": [
    "np_arr + scalar_value"
   ]
  }
 ],
 "metadata": {
  "kernelspec": {
   "display_name": "Python 3 (ipykernel)",
   "language": "python",
   "name": "python3"
  },
  "language_info": {
   "codemirror_mode": {
    "name": "ipython",
    "version": 3
   },
   "file_extension": ".py",
   "mimetype": "text/x-python",
   "name": "python",
   "nbconvert_exporter": "python",
   "pygments_lexer": "ipython3",
   "version": "3.13.5"
  }
 },
 "nbformat": 4,
 "nbformat_minor": 5
}
