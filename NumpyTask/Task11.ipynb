{
 "cells": [
  {
   "cell_type": "code",
   "execution_count": 1,
   "id": "297720b6-9e42-46ca-b79b-af8ae2fe514e",
   "metadata": {},
   "outputs": [],
   "source": [
    "import numpy as np"
   ]
  },
  {
   "cell_type": "code",
   "execution_count": 5,
   "id": "e7e42e47-8c6c-4b69-b37f-1ed22324437b",
   "metadata": {},
   "outputs": [],
   "source": [
    "arr = np.random.randint(1, 10, size = 10)"
   ]
  },
  {
   "cell_type": "code",
   "execution_count": 6,
   "id": "e86a3f5b-e750-4dcd-9d3e-8655135f89db",
   "metadata": {},
   "outputs": [
    {
     "name": "stdout",
     "output_type": "stream",
     "text": [
      "[9 1 6 5 1 2 8 1 2 1]\n"
     ]
    }
   ],
   "source": [
    "print(arr)"
   ]
  },
  {
   "cell_type": "code",
   "execution_count": 8,
   "id": "a4a0d4c6-f10c-4b72-8238-0384a3ffc015",
   "metadata": {},
   "outputs": [],
   "source": [
    "greater_than_five = (arr > 5)"
   ]
  },
  {
   "cell_type": "code",
   "execution_count": 10,
   "id": "966b1084-7e06-4025-910d-61afbca777b8",
   "metadata": {},
   "outputs": [
    {
     "name": "stdout",
     "output_type": "stream",
     "text": [
      "[9 6 8]\n"
     ]
    }
   ],
   "source": [
    "print(arr[greater_than_five])"
   ]
  }
 ],
 "metadata": {
  "kernelspec": {
   "display_name": "Python 3 (ipykernel)",
   "language": "python",
   "name": "python3"
  },
  "language_info": {
   "codemirror_mode": {
    "name": "ipython",
    "version": 3
   },
   "file_extension": ".py",
   "mimetype": "text/x-python",
   "name": "python",
   "nbconvert_exporter": "python",
   "pygments_lexer": "ipython3",
   "version": "3.13.5"
  }
 },
 "nbformat": 4,
 "nbformat_minor": 5
}
