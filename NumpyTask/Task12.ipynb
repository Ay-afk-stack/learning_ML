{
 "cells": [
  {
   "cell_type": "code",
   "execution_count": 1,
   "id": "6b10492a-9b0d-4fc2-b78f-0a53cd452030",
   "metadata": {},
   "outputs": [],
   "source": [
    "import numpy as np"
   ]
  },
  {
   "cell_type": "code",
   "execution_count": 2,
   "id": "6048c68a-e462-4cbe-982b-51ec7590504f",
   "metadata": {},
   "outputs": [],
   "source": [
    "arr = np.random.randint(1, 50, size = (5,5))"
   ]
  },
  {
   "cell_type": "code",
   "execution_count": 3,
   "id": "b28386a7-19cb-41f4-95bb-7b2136e7b374",
   "metadata": {},
   "outputs": [
    {
     "data": {
      "text/plain": [
       "array([[15,  3,  9, 13,  7],\n",
       "       [28, 43, 42, 29, 27],\n",
       "       [ 6, 10,  6, 34, 33],\n",
       "       [41, 47, 37,  7, 29],\n",
       "       [17, 47, 28, 44, 10]], dtype=int32)"
      ]
     },
     "execution_count": 3,
     "metadata": {},
     "output_type": "execute_result"
    }
   ],
   "source": [
    "arr"
   ]
  },
  {
   "cell_type": "code",
   "execution_count": 12,
   "id": "833fd789-a98f-4a3c-8388-1f851024dcf8",
   "metadata": {},
   "outputs": [
    {
     "data": {
      "text/plain": [
       "2"
      ]
     },
     "execution_count": 12,
     "metadata": {},
     "output_type": "execute_result"
    }
   ],
   "source": [
    "arr.ndim"
   ]
  },
  {
   "cell_type": "code",
   "execution_count": 7,
   "id": "a35cafb6-aecf-4ddb-8038-9db0638cf9d3",
   "metadata": {},
   "outputs": [],
   "source": [
    "res_arr = arr.flatten()"
   ]
  },
  {
   "cell_type": "code",
   "execution_count": 8,
   "id": "9a44e6c7-9edf-484e-8684-1e1c65d71ad2",
   "metadata": {},
   "outputs": [
    {
     "data": {
      "text/plain": [
       "array([15,  3,  9, 13,  7, 28, 43, 42, 29, 27,  6, 10,  6, 34, 33, 41, 47,\n",
       "       37,  7, 29, 17, 47, 28, 44, 10], dtype=int32)"
      ]
     },
     "execution_count": 8,
     "metadata": {},
     "output_type": "execute_result"
    }
   ],
   "source": [
    "res_arr"
   ]
  },
  {
   "cell_type": "code",
   "execution_count": 11,
   "id": "b9050ef4-c48e-4d3b-a887-9c8af7fee394",
   "metadata": {},
   "outputs": [
    {
     "data": {
      "text/plain": [
       "1"
      ]
     },
     "execution_count": 11,
     "metadata": {},
     "output_type": "execute_result"
    }
   ],
   "source": [
    "res_arr.ndim"
   ]
  }
 ],
 "metadata": {
  "kernelspec": {
   "display_name": "Python 3 (ipykernel)",
   "language": "python",
   "name": "python3"
  },
  "language_info": {
   "codemirror_mode": {
    "name": "ipython",
    "version": 3
   },
   "file_extension": ".py",
   "mimetype": "text/x-python",
   "name": "python",
   "nbconvert_exporter": "python",
   "pygments_lexer": "ipython3",
   "version": "3.13.5"
  }
 },
 "nbformat": 4,
 "nbformat_minor": 5
}
